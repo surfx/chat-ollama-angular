{
 "cells": [
  {
   "cell_type": "markdown",
   "metadata": {},
   "source": [
    "# setup"
   ]
  },
  {
   "cell_type": "markdown",
   "metadata": {},
   "source": [
    "```bash\n",
    "cd E:\\programas\\ia\\virtual_environment && my_env_3129\\Scripts\\activate\n",
    "uv pip install -qU langchain faiss-cpu pypdf2 openai python-dotenv langchain-ollama\n",
    "```"
   ]
  },
  {
   "cell_type": "code",
   "execution_count": null,
   "metadata": {},
   "outputs": [],
   "source": [
    "PATH_ARQUIVOS = r\"../../data\"\n",
    "LANG = \"por\" # por eng\n",
    "persist_directory = \"../../db/faiss_db\"  # Diretório onde o banco de dados será salvo"
   ]
  },
  {
   "cell_type": "markdown",
   "metadata": {},
   "source": [
    "## Recuperar FAISS"
   ]
  },
  {
   "cell_type": "code",
   "execution_count": null,
   "metadata": {},
   "outputs": [],
   "source": [
    "import os\n",
    "import faiss\n",
    "from langchain_community.vectorstores import FAISS\n",
    "from langchain_community.docstore.in_memory import InMemoryDocstore\n",
    "from langchain_ollama import OllamaEmbeddings\n",
    "\n",
    "embedding_model = OllamaEmbeddings(model=\"nomic-embed-text\") # nomic-embed-text | llama3\n",
    "\n",
    "def get_vector_store():\n",
    "    index_file = os.path.join(persist_directory, \"index.faiss\") # Nome padrão do arquivo de índice FAISS\n",
    "    if os.path.exists(index_file): # Verifica se o arquivo de índice FAISS existe\n",
    "        return FAISS.load_local(persist_directory, embedding_model, allow_dangerous_deserialization=True)\n",
    "    else:\n",
    "        # 1. Obtenha a dimensão do embedding\n",
    "        example_embedding = embedding_model.embed_query(\"texto de exemplo\") # Use um texto de exemplo para obter um embedding\n",
    "        embedding_dimension = len(example_embedding)\n",
    "\n",
    "        # 2. Crie um índice FAISS vazio com a dimensão correta\n",
    "        faiss_index = faiss.IndexFlatL2(embedding_dimension) # IndexFlatL2 é um índice FAISS comum\n",
    "\n",
    "        # 3. Inicialize FAISS da Langchain com o índice FAISS vazio\n",
    "        vectorstore = FAISS(\n",
    "            embedding_function=embedding_model,  # 1. embedding_function\n",
    "            index=faiss_index,                 # 2. index\n",
    "            docstore=InMemoryDocstore(),       # 3. docstore (using InMemoryDocstore for clarity)\n",
    "            index_to_docstore_id={},          # 4. index_to_docstore_id\n",
    "        )\n",
    "        vectorstore.save_local(persist_directory)\n",
    "        # print(f\"Nova base FAISS vazia criada e salva em: {persist_directory}\")\n",
    "        return vectorstore\n",
    "        \n",
    "# vectorstore = get_vector_store()"
   ]
  },
  {
   "cell_type": "markdown",
   "metadata": {},
   "source": [
    "### testes"
   ]
  },
  {
   "cell_type": "code",
   "execution_count": 25,
   "metadata": {},
   "outputs": [
    {
     "data": {
      "text/plain": [
       "['my_id_001', 'my_id_002']"
      ]
     },
     "execution_count": 25,
     "metadata": {},
     "output_type": "execute_result"
    }
   ],
   "source": [
    "from uuid import uuid4\n",
    "from langchain_core.documents import Document\n",
    "\n",
    "vectorstore = get_vector_store()\n",
    "\n",
    "document_1 = Document(\n",
    "    page_content=\"I had chocalate chip pancakes and scrambled eggs for breakfast this morning.\",\n",
    "    metadata={\"source\": \"tweet\"},\n",
    ")\n",
    "\n",
    "document_2 = Document(\n",
    "    page_content=\"The weather forecast for tomorrow is cloudy and overcast, with a high of 62 degrees.\",\n",
    "    metadata={\"source\": \"news\"},\n",
    ")\n",
    "\n",
    "documents = [\n",
    "    document_1,\n",
    "    document_2\n",
    "]\n",
    "uuids = [\"my_id_001\", \"my_id_002\"]\n",
    "\n",
    "vectorstore.add_documents(documents=documents, ids=uuids)"
   ]
  },
  {
   "cell_type": "code",
   "execution_count": 40,
   "metadata": {},
   "outputs": [
    {
     "name": "stdout",
     "output_type": "stream",
     "text": [
      "page_content='The weather forecast for tomorrow is cloudy and overcast, with a high of 62 degrees.' metadata={'source': 'news'}\n",
      "my_id_002\n",
      "True\n"
     ]
    }
   ],
   "source": [
    "id_aux = uuids[1]\n",
    "results = vectorstore.get_by_ids([id_aux])\n",
    "\n",
    "print(results[0])\n",
    "print(results[0].id)\n",
    "print(id_aux in results[0].id)\n",
    "#print(results['ids'] and [uuids[1]] in results['ids'])"
   ]
  },
  {
   "cell_type": "markdown",
   "metadata": {},
   "source": [
    "## torch"
   ]
  },
  {
   "cell_type": "code",
   "execution_count": 18,
   "metadata": {},
   "outputs": [
    {
     "name": "stdout",
     "output_type": "stream",
     "text": [
      "Using device: cuda\n",
      "\n",
      "NVIDIA GeForce RTX 4090\n",
      "Memory Usage:\n",
      "Allocated: 0.0 GB\n",
      "Cached:    0.0 GB\n"
     ]
    }
   ],
   "source": [
    "import torch\n",
    "\n",
    "# setting device on GPU if available, else CPU\n",
    "device = torch.device('cuda' if torch.cuda.is_available() else 'cpu')\n",
    "print('Using device:', device)\n",
    "print()\n",
    "\n",
    "#Additional Info when using cuda\n",
    "if device.type == 'cuda':\n",
    "    print(torch.cuda.get_device_name(0))\n",
    "    print('Memory Usage:')\n",
    "    print('Allocated:', round(torch.cuda.memory_allocated(0)/1024**3,1), 'GB')\n",
    "    print('Cached:   ', round(torch.cuda.memory_reserved(0)/1024**3,1), 'GB')"
   ]
  },
  {
   "cell_type": "markdown",
   "metadata": {},
   "source": [
    "## docling"
   ]
  },
  {
   "cell_type": "code",
   "execution_count": 19,
   "metadata": {},
   "outputs": [],
   "source": [
    "from docling.datamodel.base_models import InputFormat\n",
    "from docling_core.types.doc import ImageRefMode\n",
    "from docling.document_converter import DocumentConverter, PdfFormatOption\n",
    "from docling.datamodel.pipeline_options import PdfPipelineOptions, TableFormerMode, EasyOcrOptions, TesseractOcrOptions, OcrMacOptions\n",
    "from docling.datamodel.settings import settings\n",
    "\n",
    "IMAGE_RESOLUTION_SCALE = 2.0\n",
    "\n",
    "# Define pipeline options for PDF processing\n",
    "pipeline_options = PdfPipelineOptions(\n",
    "    do_table_structure=True,  # Enable table structure detection\n",
    "    do_ocr=True,  # Enable OCR\n",
    "    # full page ocr and language selection\n",
    "    #ocr_options=EasyOcrOptions(force_full_page_ocr=True, lang=[\"en\"]),  # Use EasyOCR for OCR\n",
    "    ocr_options=TesseractOcrOptions(force_full_page_ocr=True, lang=[LANG]),  # Uncomment to use Tesseract for OCR\n",
    "    #ocr_options = OcrMacOptions(force_full_page_ocr=True, lang=['en-US']),\n",
    "    table_structure_options=dict(\n",
    "        do_cell_matching=False,  # Use text cells predicted from table structure model\n",
    "        mode=TableFormerMode.ACCURATE  # Use more accurate TableFormer model\n",
    "    ),\n",
    "    generate_page_images=True,  # Enable page image generation\n",
    "    generate_picture_images=True,  # Enable picture image generation\n",
    "    images_scale=IMAGE_RESOLUTION_SCALE, # Set image resolution scale (scale=1 corresponds to a standard 72 DPI image)\n",
    ")\n",
    "\n",
    "# Initialize the DocumentConverter with the specified pipeline options\n",
    "doc_converter_global = DocumentConverter(\n",
    "    format_options={\n",
    "        InputFormat.PDF: PdfFormatOption(pipeline_options=pipeline_options)\n",
    "    }\n",
    ")"
   ]
  },
  {
   "cell_type": "markdown",
   "metadata": {},
   "source": [
    "### Chunking (estudo)"
   ]
  },
  {
   "cell_type": "markdown",
   "metadata": {},
   "source": [
    "#### direct chunking"
   ]
  },
  {
   "cell_type": "code",
   "execution_count": null,
   "metadata": {},
   "outputs": [],
   "source": [
    "result = doc_converter_global.convert(Path(r\"data\\pdfs\\monopoly.pdf\"))\n",
    "display(result.document.export_to_markdown(image_mode=ImageRefMode.EMBEDDED))"
   ]
  },
  {
   "cell_type": "code",
   "execution_count": null,
   "metadata": {},
   "outputs": [],
   "source": [
    "from docling.document_converter import DocumentConverter\n",
    "from docling.chunking import HybridChunker\n",
    "\n",
    "#conv_res = DocumentConverter().convert(FIRST_10_PAGES)\n",
    "#doc = conv_res.document\n",
    "\n",
    "chunker = HybridChunker(tokenizer=\"BAAI/bge-small-en-v1.5\")  # set tokenizer as needed\n",
    "chunk_iter = chunker.chunk(result.document)\n",
    "\n",
    "# Convert the iterator to a list to count the chunks\n",
    "chunks = list(chunk_iter)\n",
    "num_chunks = len(chunks)\n",
    "\n",
    "# Print the number of chunks\n",
    "print(f\"The document has been divided into {num_chunks} chunks.\")"
   ]
  },
  {
   "cell_type": "code",
   "execution_count": null,
   "metadata": {},
   "outputs": [],
   "source": [
    "print(chunks[1].text)"
   ]
  },
  {
   "cell_type": "markdown",
   "metadata": {},
   "source": [
    "#### faiss chunking\n",
    "\n",
    "obs: precisa do ollama executando `ollama serve`"
   ]
  },
  {
   "cell_type": "code",
   "execution_count": null,
   "metadata": {},
   "outputs": [],
   "source": [
    "from langchain_ollama import OllamaEmbeddings\n",
    "from langchain_text_splitters import RecursiveCharacterTextSplitter\n",
    "from langchain_community.vectorstores import Chroma"
   ]
  },
  {
   "cell_type": "code",
   "execution_count": null,
   "metadata": {},
   "outputs": [],
   "source": [
    "# display(result.document.export_to_markdown())\n",
    "from langchain_core.documents import Document\n",
    "\n",
    "local_path = r\"data\\pdfs\\monopoly.pdf\"\n",
    "result = doc_converter_global.convert(Path(local_path))\n",
    "documento = Document(page_content=result.document.export_to_markdown(image_mode=ImageRefMode.EMBEDDED), metadata={\"source\": local_path})\n",
    "\n",
    "print(documento)"
   ]
  },
  {
   "cell_type": "code",
   "execution_count": null,
   "metadata": {},
   "outputs": [],
   "source": [
    "text_splitter = RecursiveCharacterTextSplitter(chunk_size=7500, chunk_overlap=100)\n",
    "chunks = text_splitter.split_documents([documento])"
   ]
  },
  {
   "cell_type": "code",
   "execution_count": null,
   "metadata": {},
   "outputs": [],
   "source": [
    "print(f\"num chunks: {len(chunks)}\")\n",
    "print(chunks[0])"
   ]
  },
  {
   "cell_type": "markdown",
   "metadata": {},
   "source": [
    "# Separar documentos"
   ]
  },
  {
   "cell_type": "code",
   "execution_count": 21,
   "metadata": {},
   "outputs": [],
   "source": [
    "import os\n",
    "\n",
    "def separar_arquivos(diretorio):\n",
    "    \"\"\"\n",
    "    Varre um diretório e suas subpastas, separando arquivos de imagem de outros tipos de arquivo.\n",
    "\n",
    "    Args:\n",
    "        diretorio (str): O caminho do diretório a ser varrido.\n",
    "\n",
    "    Returns:\n",
    "        tuple: Uma tupla contendo duas listas: imagens e documentos.\n",
    "    \"\"\"\n",
    "\n",
    "    imagens = []\n",
    "    documentos = []\n",
    "\n",
    "    extensoes_imagens = ['.jpg', '.jpeg', '.png', '.gif', '.bmp']  # Adicione outras extensões se necessário\n",
    "\n",
    "    for raiz, subpastas, arquivos in os.walk(diretorio):\n",
    "        for arquivo in arquivos:\n",
    "            caminho_arquivo = os.path.join(raiz, arquivo)\n",
    "            nome_arquivo, extensao = os.path.splitext(arquivo)\n",
    "            extensao = extensao.lower()\n",
    "\n",
    "            if extensao in extensoes_imagens:\n",
    "                imagens.append(caminho_arquivo) #adiciona o caminho completo\n",
    "            else:\n",
    "                documentos.append(caminho_arquivo) #adiciona o caminho completo\n",
    "\n",
    "    return imagens, documentos\n",
    "\n",
    "imagens, documentos = separar_arquivos(PATH_ARQUIVOS)\n",
    "\n",
    "# print(\"Imagens:\")\n",
    "# for imagem in imagens: print(imagem)\n",
    "\n",
    "# print(\"\\nDocumentos:\")\n",
    "# for documento in documentos: print(documento)"
   ]
  },
  {
   "cell_type": "markdown",
   "metadata": {},
   "source": [
    "# Document chunks"
   ]
  },
  {
   "cell_type": "code",
   "execution_count": 23,
   "metadata": {},
   "outputs": [],
   "source": [
    "from pathlib import Path\n",
    "from langchain_ollama import OllamaEmbeddings\n",
    "from langchain_text_splitters import RecursiveCharacterTextSplitter\n",
    "from langchain_community.vectorstores import Chroma\n",
    "\n",
    "# display(result.document.export_to_markdown())\n",
    "from langchain_core.documents import Document\n",
    "\n",
    "# img\n",
    "import pytesseract\n",
    "from PIL import Image\n",
    "#pytesseract.pytesseract.tesseract_cmd = r\"E:\\programas\\ia\\Tesseract-OCR\\tesseract.exe\"\n",
    "#end img\n",
    "\n",
    "text_splitter = RecursiveCharacterTextSplitter(chunk_size=7500, chunk_overlap=100)\n",
    "\n",
    "#local_path = r\"data\\pdfs\\monopoly.pdf\"\n",
    "def get_chunks_doc(local_path):\n",
    "    result = doc_converter_global.convert(Path(local_path))\n",
    "    documento = Document(page_content=result.document.export_to_markdown(image_mode=ImageRefMode.EMBEDDED), metadata={\"source\": local_path})\n",
    "    chunks = text_splitter.split_documents([documento])\n",
    "    return chunks\n",
    "\n",
    "\n",
    "def get_chunks_image(local_path):\n",
    "    image = Image.open(local_path)\n",
    "    extracted_text = pytesseract.image_to_string(image, lang=LANG)\n",
    "\n",
    "    documento = Document(page_content=extracted_text, metadata={\"source\": local_path})\n",
    "    chunks = text_splitter.split_documents([documento])\n",
    "    return chunks"
   ]
  },
  {
   "cell_type": "markdown",
   "metadata": {},
   "source": [
    "# FAISS db\n",
    "\n",
    "obs: precisa do ollama executando `ollama serve`"
   ]
  },
  {
   "cell_type": "markdown",
   "metadata": {},
   "source": [
    "## faiss batch"
   ]
  },
  {
   "cell_type": "code",
   "execution_count": null,
   "metadata": {},
   "outputs": [],
   "source": [
    "import hashlib\n",
    "import os\n",
    "from langchain_community.vectorstores import FAISS\n",
    "from langchain.docstore.document import Document\n",
    "#from langchain_community.embeddings import OllamaEmbeddings\n",
    "# from langchain_ollama import OllamaEmbeddings \n",
    "# from pathlib import Path\n",
    "\n",
    "def generate_id_filename(filename, page_index):\n",
    "    filename = os.path.basename(filename)\n",
    "    base_id = hashlib.sha256(filename.encode()).hexdigest()\n",
    "    return f\"{base_id}_{page_index}\"    \n",
    "\n",
    "def generate_id(document, page_index):\n",
    "    \"\"\"Gera um ID único baseado no nome do arquivo e no índice da página.\"\"\"\n",
    "    source = document.metadata['source']\n",
    "    return generate_id_filename(os.path.basename(source), page_index)\n",
    "\n",
    "\n",
    "# embedding_model = OllamaEmbeddings(model=\"nomic-embed-text\")\n",
    "vectorstore = get_vector_store()\n",
    "\n",
    "def faiss_indexing(\n",
    "    path_arquivos=PATH_ARQUIVOS,\n",
    "    vectorstore=vectorstore\n",
    "):\n",
    "    \"\"\"Indexa chunks em lote no FAISS.\"\"\"\n",
    "\n",
    "    imagens, documentos = separar_arquivos(path_arquivos)\n",
    "\n",
    "    for imagem in imagens:\n",
    "        id_aux = generate_id_filename(imagem, 0)\n",
    "        results = vectorstore.get_by_ids([id_aux]);\n",
    "        if results and results[0].id and id_aux in results[0].id:\n",
    "            print(f\"Documento com ID {id_aux} | {os.path.basename(imagem)} já existe na coleção.\")\n",
    "            continue\n",
    "\n",
    "        faiss_indexing_batch(get_chunks_image(imagem), vectorstore)\n",
    "\n",
    "    for documento in documentos:\n",
    "        id_aux = generate_id_filename(documento, 0)\n",
    "        results = vectorstore.get_by_ids([id_aux]);\n",
    "        if results and results[0].id and id_aux in results[0].id:\n",
    "            print(f\"Documento com ID {id_aux} | {os.path.basename(documento)} já existe na coleção.\")\n",
    "            continue\n",
    "\n",
    "        faiss_indexing_batch(get_chunks_doc(documento), vectorstore)\n",
    "\n",
    "    return vectorstore\n",
    "    \n",
    "\n",
    "def faiss_indexing_batch(chunks, vectorstore=None):\n",
    "    \"\"\"Indexa chunks em lote no FAISS db.\"\"\"\n",
    "\n",
    "    if not chunks or not vectorstore:\n",
    "        print('Sem chunks e/ou vectorstore is null')\n",
    "        return\n",
    "\n",
    "    documents_to_add = []\n",
    "    ids_to_add = []\n",
    "    #embeddings_to_add = []\n",
    "    metadatas_to_add = []\n",
    "\n",
    "    for i, chunk in enumerate(chunks):\n",
    "        document_id = generate_id(chunk, i)\n",
    "        results = vectorstore.get_by_ids([document_id]);\n",
    "        if results and results[0].id and document_id in results[0].id:\n",
    "            print(f\"Documento com ID {document_id} já existe na coleção.\")\n",
    "            continue\n",
    "\n",
    "        #embedding = embedding_model.embed_documents([chunk.page_content])[0]\n",
    "\n",
    "        documents_to_add.append(chunk)\n",
    "        ids_to_add.append(document_id)\n",
    "        #embeddings_to_add.append(embedding)\n",
    "        #metadatas_to_add.append(chunk.metadata)\n",
    "\n",
    "    if documents_to_add:\n",
    "        # , metadatas=metadatas_to_add\n",
    "        vectorstore.add_documents(documents=documents_to_add, ids=ids_to_add)\n",
    "        print(f\"Adicionados {len(documents_to_add)} documentos em lote.\")\n",
    "\n",
    "    if chunks:\n",
    "        first_chunk_id = generate_id(chunks[0], 0)\n",
    "        print(f\"ID do primeiro chunk: {first_chunk_id}\")\n"
   ]
  },
  {
   "cell_type": "markdown",
   "metadata": {},
   "source": [
    "## FAISS indexing"
   ]
  },
  {
   "cell_type": "code",
   "execution_count": 57,
   "metadata": {},
   "outputs": [
    {
     "name": "stdout",
     "output_type": "stream",
     "text": [
      "Documento com ID ff355d2b2b6da4cf0f4fff0d3a48f8d7bf920e8e9fd5854d743d94b8d74431cb_0 | Captura de tela 2025-03-13 085540.png já existe na coleção.\n",
      "Documento com ID 4de61c5de3846ef479128ce449eca7c0e6bacbb02259525bd3120ed54b454ead_0 | word.docx já existe na coleção.\n",
      "Documento com ID f2a73aa28943b31bbc82bf3d4bfade03f80a0a6f5db83cfe1bfcb498aae83ff1_0 | xlsx.xlsx já existe na coleção.\n",
      "Documento com ID 20c21a195a1b20b321c6807cfa29d8f02e7c362e80828dbbf5449bd8259c8255_0 | python - How to run DeepSeek model locally - Stack Overflow.html já existe na coleção.\n",
      "Documento com ID 7c0100cbcab341da2d7e3063ea01534e24cd669c505f7845f3ccc8bd95ddba50_0 | LLMs.pdf já existe na coleção.\n",
      "Documento com ID 35ee8ca3231e1a9d9ea39b17b42b8c0fc604929073ef313ce42096db30ea7847_0 | monopoly.pdf já existe na coleção.\n",
      "Documento com ID a8f083315429e2f971a0292de1197fef3a7059aa7ef6a1698b1c1d2c0775341e_0 | scammer-agent.pdf já existe na coleção.\n",
      "Documento com ID 27c24834bbaf23c523d8d555b4026d3e51710cc16d86a1d1eb55092a793fcbaa_0 | ticket_to_ride.pdf já existe na coleção.\n",
      "Documento com ID 1cb071d312447aff4693e8b3dffd19573f21df379dfdb79defcca0fd40b25792_0 | WEF_The_Global_Cooperation_Barometer_2024.pdf já existe na coleção.\n"
     ]
    }
   ],
   "source": [
    "vectorstore = faiss_indexing(PATH_ARQUIVOS, vectorstore)\n",
    "# salvar no disco\n",
    "vectorstore.save_local(persist_directory)"
   ]
  },
  {
   "cell_type": "code",
   "execution_count": 58,
   "metadata": {},
   "outputs": [
    {
     "name": "stdout",
     "output_type": "stream",
     "text": [
      "page_content='- Automático\n",
      "- Claro\n",
      "- Noite' metadata={'source': '../../data\\\\docs\\\\word.docx'}\n",
      "page_content='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' metadata={'source': '../../data\\\\pdfs\\\\LLMs.pdf'}\n",
      "page_content='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' metadata={'source': '../../data\\\\pdfs\\\\LLMs.pdf'}\n",
      "page_content='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' metadata={'source': '../../data\\\\pdfs\\\\ticket_to_ride.pdf'}\n",
      "page_content='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' metadata={'source': '../../data\\\\pdfs\\\\ticket_to_ride.pdf'}\n"
     ]
    }
   ],
   "source": [
    "query_generica = \"documento\"  # Uma consulta genérica\n",
    "results = vectorstore.similarity_search(query_generica, k=5) # k=5 para obter 5 resultados\n",
    "\n",
    "for doc in results:\n",
    "    print(doc)"
   ]
  },
  {
   "cell_type": "markdown",
   "metadata": {},
   "source": [
    "# Retrieval"
   ]
  },
  {
   "cell_type": "code",
   "execution_count": 59,
   "metadata": {},
   "outputs": [],
   "source": [
    "from langchain.prompts import ChatPromptTemplate, PromptTemplate\n",
    "from langchain_core.output_parsers import StrOutputParser\n",
    "from langchain_ollama.chat_models import ChatOllama\n",
    "from langchain_core.runnables import RunnablePassthrough\n",
    "from langchain.retrievers.multi_query import MultiQueryRetriever"
   ]
  },
  {
   "cell_type": "code",
   "execution_count": 60,
   "metadata": {},
   "outputs": [],
   "source": [
    "# LLM from Ollama\n",
    "local_model = \"llama3.2\"\n",
    "local_model = \"deepseek-r1\"\n",
    "llm = ChatOllama(model=local_model)"
   ]
  },
  {
   "cell_type": "code",
   "execution_count": 61,
   "metadata": {},
   "outputs": [],
   "source": [
    "QUERY_PROMPT = PromptTemplate(\n",
    "    input_variables=[\"question\"],\n",
    "    template=\"\"\"Você é um assistente de modelo de linguagem de IA. Sua tarefa é gerar cinco\n",
    "    versões diferentes da pergunta do usuário fornecida para recuperar documentos relevantes de\n",
    "    um banco de dados vetorial. Ao gerar múltiplas perspectivas sobre a pergunta do usuário, seu\n",
    "    objetivo é ajudar o usuário a superar algumas das limitações da pesquisa de similaridade \n",
    "    baseada em distância. Forneça essas perguntas alternativas separadas por quebras de linha.\n",
    "    Pergunta original: {question}\"\"\",\n",
    ")"
   ]
  },
  {
   "cell_type": "code",
   "execution_count": null,
   "metadata": {},
   "outputs": [],
   "source": [
    "#from langchain_ollama import OllamaEmbeddings \n",
    "#embedding_model = OllamaEmbeddings(model=\"nomic-embed-text\")\n",
    "\n",
    "vectorstore = get_vector_store()\n",
    "\n",
    "retriever = MultiQueryRetriever.from_llm(\n",
    "    vectorstore.as_retriever(), \n",
    "    llm,\n",
    "    prompt=QUERY_PROMPT\n",
    ")\n",
    "\n",
    "# RAG prompt\n",
    "template = \"\"\"Responda à pergunta com base SOMENTE no seguinte contexto:\n",
    "{context}\n",
    "Pergunta: {question}\n",
    "\"\"\"\n",
    "\n",
    "prompt = ChatPromptTemplate.from_template(template)"
   ]
  },
  {
   "cell_type": "code",
   "execution_count": 63,
   "metadata": {},
   "outputs": [],
   "source": [
    "chain = (\n",
    "    {\"context\": retriever, \"question\": RunnablePassthrough()}\n",
    "    | prompt\n",
    "    | llm\n",
    "    | StrOutputParser()\n",
    ")"
   ]
  },
  {
   "cell_type": "code",
   "execution_count": 64,
   "metadata": {},
   "outputs": [
    {
     "data": {
      "text/markdown": [
       "<think>\n",
       "Okay, eu preciso entender como se joga Monopóly. Parece que é um jogo de tabuleiro com players que se movem aoredo do tabuleiro, possuem casas e podem adquirir propriedades ou payas taxas. Eu agradeço a explicar cada passo e as regras básicas.\n",
       "</think>\n",
       "\n",
       "Jogar Monopóly é um jogo clássico de tabuleiro que combina strategies de negociação, finanças e lógica. Aqui está uma explicação passo a passo do como se jogar:\n",
       "\n",
       "### **Regras Básicas**\n",
       "\n",
       "1. **Objetivo**  \n",
       "   O objetivo é ser o primeiro jogador a cumprir 40 casas do tabuleiro.\n",
       "\n",
       "2. **Setup**  \n",
       "   - Cada jogador escolhe uma propriedade de Monopóly como casa inicial.\n",
       "   - Cada jogador recebe 20 dólares como capital inicial.\n",
       "   - Os movimentos são feitos com um par dedados (duas moedas ou um cubo de dados).\n",
       "\n",
       "3. **Passos Iniciais**  \n",
       "   - **Primeiro Jogador**: lança os dados e move suas casas de acordo com o número total dos pontos.\n",
       "   - **Segundo Jogador**: lança os dados após a primeira vez.\n",
       "\n",
       "### **Jogando**\n",
       "\n",
       "4. **Passar por \"Go\"**  \n",
       "   Cada vez que um jogador passa por \"Go\", o Banca paga $200 para cada circulação completa.\n",
       "\n",
       "5. **Propriedades e Casas**  \n",
       "   - As casas são classificadas em:\n",
       "     - **Vagas Sem Propriedade**: apenas se movimentam.\n",
       "     - **Casa de Monopóly (com ou sem propriedade)**: podem ser adquiridas com dinheiro.\n",
       "     - **Propriedades Comerciais (Comércio ou Loja de Roupas, por exemplo)**: podem ser adquiridas e vendidas.\n",
       "     - **Casa de Ocupação**: onde um jogador está.\n",
       "\n",
       "6. **Ad quarições e Penaltis**  \n",
       "   - **Sorteios (Chance) e Condições de Comunidades (Community Chest)**:\n",
       "     - Jogadores podem receber regras adicionais, como ter que pagar taxas, juros ou even realinear (ter que sair de casa).\n",
       "   - **Dobradouro**: Se um jogador lança dobros (ambos os dados iguais), ele pode:\n",
       "     - Mover duas vezes no mesmo movimento.\n",
       "     -Cancelar um sorteeiro ou confeitório.\n",
       "     - Tripularem: dois jouvendo tripulsar juntos.\n",
       "     - Tripular: cada jogador lança dobros separadamente.\n",
       "\n",
       "7. **Jogar Tripulando**  \n",
       "   Se três ou mais jogadores lançam dobros simultaneamente, cada jogador tripula: todas as movimentações são feitas simultaneamente.\n",
       "\n",
       "8. **Saindo de Casa**  \n",
       "   - Se um jogador der servei de \"Jail\" (prisão), ele paga uma taxa fixa (ex: $50) para sair.\n",
       "   - Cansado de Jaul: Se um jogador estiver em Jaul por mais de 3 vezes consecutivas, ele pago uma taxa anual (ex: $200).\n",
       "\n",
       "9. **Acordar Dinheiro**  \n",
       "   - Jogadores que adquirem propriedades podem cobrar de outros jogadores se estiverem vindo para a mesma casa.\n",
       "   - Se um jogador der em torno de uma \"Propriedade Comercial\", ele pode negociar o preço de compra e venda.\n",
       "\n",
       "10. **Paying Taxes**  \n",
       "    - Cada propriedade tem associated taxas: como impostos de terreno, impostos de desconto (community tax) e impostos de juros.\n",
       "\n",
       "### **Vencedor**\n",
       "\n",
       "- O vencedor é aquele que primeiro cumprir 40 casas do tabuleiro.\n",
       "- Se houver empate em torno de 40, os jogadores restantes passam por \"Go\" e o vencedor é aquele que terminou mais perto.\n",
       "\n",
       "### **Recursos**\n",
       "\n",
       "- **Casa de Monopóly**: Cada jogador recebe uma casa como propriedade inicial.\n",
       "- **Dinheiro Inicial**: Cada jogador recebe $200 para cada circulação de \"Go\".\n",
       "- **Propriedades**: Adquiridas com dinheiro, podem ser vendidas em qualquer momento.\n",
       "\n",
       "### **Regras Adicionais**\n",
       "\n",
       "- **Jail**: Uma casa de Ocupação que não pode ser vendida.\n",
       "- **Incaralho (Chance) e Condições de Comunidades (Community Chest)**: Sorteios que podem incluir aquisição de propriedades adicionais, juros ou pagamentos.\n",
       "\n",
       "Estas são as regras básicas do jogo Monopóly. O jogo combina movimentos viajados, negociação e finanças, tornando-se uma experiência divertida e estrategica!"
      ],
      "text/plain": [
       "<IPython.core.display.Markdown object>"
      ]
     },
     "metadata": {},
     "output_type": "display_data"
    }
   ],
   "source": [
    "from IPython.display import display, Markdown\n",
    "display(Markdown(chain.invoke(\"Como jogar Monopoly ?\")))"
   ]
  },
  {
   "cell_type": "code",
   "execution_count": 65,
   "metadata": {},
   "outputs": [
    {
     "data": {
      "text/markdown": [
       "<think>\n",
       "Primeiro, levi o texto fornecido sobre as linguagens de programação do Word e como a frase \"A QUICK BROWN FOX JUMPS OVER THE LAZY DOG\" é utilizada em diferentes plataformas. Isso me induziu a pensar em como os Sw Permission ou outros softwares usam tais pangramas para testar efeitos visuais de diferentes fontes.\n",
       "\n",
       "Em seguida, acreditei que o autor estivesse falando sobre a importância de usar pangramas em português para evitar conflitos ao invés de usá-los automaticamente como na Inglês. Coisa que pareceu confuso, mas entendi que ele wanted para destacar a necessidade de ajustes locais em diferentes linguagens.\n",
       "\n",
       "Então, me orientei para entender melhor o que é um Voice-Enabled AI e sua importancia. Sabia que os AIs como Siri ou Alexa podem interpretar e responder em voz humana, mas questionei se isso estava diretamente relacionado com os pangramas do Word.\n",
       "\n",
       "Tive uma breve pesquisa sobre os Processos de Translação de Softwares e como os Sw Permission evitam os conflitos de linguagem. Depois, percebi que o autor talvez estivesse fechando um tópico diferente, talvez sobre a necessidade de ajustar os softwares para diferentesidiomas em lugar de falar sobre Voice-Enabled AI diretamente.\n",
       "\n",
       "Assim, decidi me orientar em torno do AIVoice. Sabia que existem vários AIs para interfaces Virtuais como Siri, Amazon Lex, Google Assistant e outros. Entendi que o AIVoice visa tornar interação com os computadores mais fácil e natural, usando a voz humana.\n",
       "\n",
       "No entanto, o texto não mencionou diretamente a relação entre os pangramas do Word e os Voice-Enabled AI. achei que o autor talvez estivesse abordando um problema diferente, talvez sobre como os softwares podem ser melhorados para usarem mais as interfaces de voz.\n",
       "\n",
       "Finalmente, conclui que para esclarecer a relação entre os pangramas do Word e os Voice-Enabled AI, seria necessário mais informações ou contextos sobre o tema. Assim, decidi formular uma resposta baseando solely no que estava disponível.\n",
       "</think>\n",
       "\n",
       "**Resposta:**\n",
       "\n",
       "Um Voice-Enabled AI é uma tecnologia de interação que permite ao usuário commands emitidos por voz para serem compreendidos e executados por um computador, como os smartphones, tablets ou computadores. esses AIs (Artificial Intelligence) são usados para tarefas como beber, pedir auxílio, levar direção ou performar tarefas básicas, tornando a interação humana-computador mais natural e intuitiva.\n",
       "\n",
       "No contexto do texto mencionado, não há uma direta conexão entre os pangramas do Microsoft Word e os Voice-Enabled AI. entretanto, a idéia de ajustar as interfaces para diferentes idiomas e as necessidades do usuário pode ser relevantemente relacionada. Os autores podem estar destacando a necessidade de softwares serem adaptados para diferentesidiomas e usárias para evitar conflitos e melhorar a experiência de interação humana-computador. Assim, o uso de AIs como Voice-Enabled AI pode ajudar na definição de padrões ou interfaces mais personalizados que atendam as expectativas do usuário em diferentes linguagens e contextos."
      ],
      "text/plain": [
       "<IPython.core.display.Markdown object>"
      ]
     },
     "metadata": {},
     "output_type": "display_data"
    }
   ],
   "source": [
    "display(Markdown(chain.invoke(\"Explique um Voice-Enabled AI e qual a conclusão dos autores ?\")))"
   ]
  },
  {
   "cell_type": "code",
   "execution_count": 66,
   "metadata": {},
   "outputs": [
    {
     "data": {
      "text/markdown": [
       "<think>\n",
       "Ok, eu preciso entender como executar o DeepSeek com Python local. Primeiro, entendo que DeepSeek é uma plataforma que ajuda a gerar código para tarefas de dados clínicos usando LLMs. Eu Sou iniciante, então vou começar olhando para as instruções detalhadas e vejo que há vários passos a serem seguidos.\n",
       "\n",
       "Primeiro, preciso instalar o Python no meu computador. Isso é tranquilo, posso baixar do site oficial. Depois, etes tarefas de instalação do Jupyter Notebook. Eu sou familiar com ele porque usando para machine learning, mas está a ser usado aqui para geração de código.\n",
       "\n",
       "Agora, leio sobre o Repositório GitHub do DeepSeek. Preciso criar uma conta e downloadar os arquivos necessários. Acho que isso inclui o código-fonte da plataforma e talvez algum exemplo de como usar.\n",
       "\n",
       "Em seguida, monto a GPU no computador para otimizar o desempenho. Eu sou incerto sobre como isso funciona exatamente, mas posso seguir as instruções passo a passo.\n",
       "\n",
       "Depois disso, abro o Jupyter Notebook e digitro o comando para executar DeepSeek. Parece que é um comando simples, mas preciso garantir que tenho todas as dependências instaladas, como transformers e torch, antes de execute-lo.\n",
       "\n",
       "No final, verifico os resultados na tela do Jupyter Notebook e escrevo minhas observações no arquivo PDF incluído. Isso me ajuda a manter um registro das coisas que fiz e como o DeepSeek funcionou para mim.\n",
       "\n",
       "Enquanto isso, eu tiro as pernas à再去, tentando entender cada passo e resolver possíveis erros ao longo do processo.\n",
       "</think>\n",
       "\n",
       "Para executar o DeepSeek com Python local, siga os seguintes passos:\n",
       "\n",
       "1. **Instalar o Python**: Baixe e instale a versão do Python desejada do site oficial.\n",
       "\n",
       "2. **Baixar os Repositórios**: Crie uma conta no GitHub (se for necessária) e downloadar os arquivos necessários, incluindo o código-fonte da plataforma.\n",
       "\n",
       "3. **Montar a GPU**: Se desejar accelerar o processamento, monte a GPU no seu computador.\n",
       "\n",
       "4. **Iniciar o Jupyter Notebook**: Abra o arquivo `notebook.py` contido no Repositório do DeepSeek.\n",
       "\n",
       "5. **Executar DeepSeek**:\n",
       "   ```python\n",
       "   from deepseek import DeepSeek\n",
       "\n",
       "   # Inicialize o DeepSeek com sua configuração\n",
       "   ds = DeepSeek(\n",
       "       model='deepseek-chat',\n",
       "       temperature=0.7,\n",
       "       max_tokens=2048,\n",
       "       n_ctx=2048,\n",
       "       suffix=\"python\"\n",
       "   )\n",
       "\n",
       "   # Execute uma tarefa de geração de código\n",
       "   print(\"Meu comando:\")\n",
       "   print(ds.generate_code(\"Como executar o DeepSeek com python local?\"))\n",
       "   ```\n",
       "\n",
       "6. **Visualizar os Resultados**: As saídas do código serán exibidas na tela do Jupyter Notebook.\n",
       "\n",
       "**Observações**:\n",
       "- **Configurações**: Ajuste os parâmetros como `temperature`, `max_tokens` e `n_ctx` conforme necessário para sua tarefa específica.\n",
       "- **Arquivos Adicionais**: Se necessário, adicione as pastas e arquivos necessários no Repositório do DeepSeek.\n",
       "- **Verificação de Erros**: Verifique os erros na tela, se houverem, e ajuste as configurações ou código correspondente.\n",
       "\n",
       "Geralmente, o DeepSeek gera código que pode ser executado localmente após a instalação adequada das dependências."
      ],
      "text/plain": [
       "<IPython.core.display.Markdown object>"
      ]
     },
     "metadata": {},
     "output_type": "display_data"
    }
   ],
   "source": [
    "display(Markdown(chain.invoke(\"Como executar o DeepSeek com python local ?\")))"
   ]
  },
  {
   "cell_type": "markdown",
   "metadata": {},
   "source": [
    "# Excluir Faiss"
   ]
  },
  {
   "cell_type": "code",
   "execution_count": null,
   "metadata": {},
   "outputs": [],
   "source": [
    "index_file = os.path.join(persist_directory, \"index.faiss\") # Nome padrão do arquivo de índice FAISS\n",
    "if os.path.exists(index_file):\n",
    "    os.remove(index_file)\n",
    "\n",
    "index_pkl = os.path.join(persist_directory, \"index.pkl\") # Nome padrão do arquivo de pkl FAISS\n",
    "if os.path.exists(index_pkl):\n",
    "    os.remove(index_pkl)"
   ]
  }
 ],
 "metadata": {
  "kernelspec": {
   "display_name": "my_env_3129",
   "language": "python",
   "name": "python3"
  },
  "language_info": {
   "codemirror_mode": {
    "name": "ipython",
    "version": 3
   },
   "file_extension": ".py",
   "mimetype": "text/x-python",
   "name": "python",
   "nbconvert_exporter": "python",
   "pygments_lexer": "ipython3",
   "version": "3.12.9"
  }
 },
 "nbformat": 4,
 "nbformat_minor": 2
}
