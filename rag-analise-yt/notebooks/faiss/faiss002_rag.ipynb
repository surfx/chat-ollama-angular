{
 "cells": [
  {
   "cell_type": "markdown",
   "metadata": {},
   "source": [
    "# Faiss RAG"
   ]
  },
  {
   "cell_type": "markdown",
   "metadata": {},
   "source": [
    "## install"
   ]
  },
  {
   "cell_type": "markdown",
   "metadata": {},
   "source": [
    "- [Facebook AI Similarity Search](https://www.datacamp.com/pt/blog/faiss-facebook-ai-similarity-search)\n",
    "- [faiss tutorial](https://python.langchain.com/docs/integrations/vectorstores/faiss/)\n",
    "- [InMemoryDocstore](https://python.langchain.com/api_reference/community/docstore/langchain_community.docstore.in_memory.InMemoryDocstore.html)\n",
    "- [FAISS](https://python.langchain.com/api_reference/community/vectorstores/langchain_community.vectorstores.faiss.FAISS.html)\n",
    "- [Retrieval-Augmented Generation (RAG) with LangChain and FAISS](https://medium.com/@alexrodriguesj/retrieval-augmented-generation-rag-with-langchain-and-faiss-a3997f95b551)\n",
    "\n",
    "```bash\n",
    "cd E:\\programas\\ia\\virtual_environment && my_env_3129\\Scripts\\activate\n",
    "uv pip install -qU langchain faiss-cpu pypdf2 openai python-dotenv langchain-ollama\n",
    "```"
   ]
  },
  {
   "cell_type": "markdown",
   "metadata": {},
   "source": [
    "# Building Retrieval-Augmented Generation (RAG) pipeline"
   ]
  },
  {
   "cell_type": "markdown",
   "metadata": {},
   "source": [
    "## Step 1: Import libraries"
   ]
  },
  {
   "cell_type": "code",
   "execution_count": 2,
   "metadata": {},
   "outputs": [],
   "source": [
    "# import os\n",
    "# from dotenv import load_dotenv\n",
    "\n",
    "from langchain_community.document_loaders import PyPDFLoader\n",
    "from langchain_text_splitters import CharacterTextSplitter\n",
    "from langchain_community.vectorstores import FAISS\n",
    "\n",
    "# Load environment variables from .env file\n",
    "#load_dotenv()"
   ]
  },
  {
   "cell_type": "markdown",
   "metadata": {},
   "source": [
    "## Step 2: Create Documents"
   ]
  },
  {
   "cell_type": "code",
   "execution_count": 3,
   "metadata": {},
   "outputs": [],
   "source": [
    "pdf_path = r\"..\\..\\data\\pdfs\\monopoly.pdf\"\n",
    "\n",
    "loader = PyPDFLoader(file_path=pdf_path)\n",
    "documents = loader.load()\n",
    "\n",
    "text_splitter = CharacterTextSplitter(chunk_size=1000, chunk_overlap=30, separator=\"\\n\")\n",
    "split_documents = text_splitter.split_documents(documents)"
   ]
  },
  {
   "cell_type": "markdown",
   "metadata": {},
   "source": [
    "## Step 3: Create, Save, and Load Vector Store"
   ]
  },
  {
   "cell_type": "code",
   "execution_count": 4,
   "metadata": {},
   "outputs": [
    {
     "name": "stdout",
     "output_type": "stream",
     "text": [
      "[[0.016467305, 0.03026595, -0.17256817, 0.023868816, 0.03349949, -0.00058995635, 0.021893386, -2.7633583e-05, -0.03639252, -0.015499223, -0.026084783, 0.026844995, 0.026133616, -0.045095365, 0.005655398, -0.04929765, 0.05812456, -0.039694693, 0.007047141, -0.0011950906, 0.04336905, -0.0087991925, -0.031078953, -0.035518806, 0.13211723, 0.000746148, -0.036590494, 0.06629684, -0.03449991, -0.055991743, 0.031263728, 0.0029022687, 0.052100934, 0.035438295, 0.0149548, -0.01919272, 0.015346784, 0.049202625, 0.017465414, -0.0014161592, 0.0035245602, 0.018308444, -0.05742242, -0.033264562, 0.081448294, 0.010195554, -0.06669807, 0.05819847, -0.008660613, -0.031786375, -0.015147163, -0.033206493, 0.030374173, -0.029595485, 0.07924157, 0.02143706, 0.013627398, -0.07123822, 0.026264276, -0.02243022, -0.010141772, 0.009613517, -0.088849805, 0.09620908, 0.016503848, -0.076200716, -0.040523537, 0.083201006, 0.052718606, 0.0421865, 0.03061438, 0.048067585, 0.024585474, -0.06085921, -0.024648825, -0.017418891, 0.011984561, -0.05896924, -0.031509213, -0.010551244, 0.0393621, 0.033747617, 0.07860806, 0.028444607, 0.03281583, -0.04837378, 0.0018249713, -0.04966192, -0.028259834, 0.054154564, 0.06721543, 0.03950992, 0.055484936, 0.03935154, -0.040568408, -0.0038898184, -0.017033504, 0.07324433, -0.02088208, 0.0026049807, 0.021834984, -0.009283564, -0.007839194, -0.026267577, -0.0077298144, -0.0037608068, -0.012767004, 0.014995219, 0.0037839036, 0.0005807177, -0.02397968, 0.011438571, -0.015501202, -0.0136785405, 0.018143468, 0.018014126, 0.001749082, -0.07794287, -0.014345046, 0.003548977, 0.022240167, 0.012729595, 0.024941824, 0.030783316, -0.008376853, 0.027638862, -0.05509427, 0.0388025, 0.033750255, -0.03606257, -0.016810456, -0.0130212745, -0.04113593, -0.07993843, -0.0119020725, 0.042318482, -0.0031371953, -0.025484268, -0.02377511, -0.0218627, 0.014354285, 0.021551225, 0.053536892, 0.02277469, -0.009070414, -0.04005368, 0.040494498, -0.022270523, 0.006992039, 0.008101259, 0.023878055, 0.007922592, 0.03802645, 0.0063248733, 0.022819566, -0.0025215026, -0.040856127, 0.054481875, 0.045464914, 0.031369314, 0.0017471024, -0.048067585, -0.01164273, -0.0019770798, -0.040518254, -0.051594127, -7.291966e-05, 0.05015289, 0.022629512, -0.03167287, -0.057037033, -0.06371001, 0.022229608, -0.02031984, -0.056260984, -0.037297912, -0.04470998, -0.05030599, 0.021361172, -0.021433761, 1.121841e-05, -0.016039686, 0.016447509, 0.053558007, -0.022815606, -0.024889031, 0.039618142, -0.010034538, -0.067912295, -0.020346235, 0.021214673, -0.013859355, -0.07588396, -0.046056192, -0.0050390456, -0.039050624, 0.00973494, -0.014987796, 0.033829443, -0.0064842408, -0.06291812, -0.044984505, -0.022938348, -0.026127016, -0.018217543, -0.0016164408, -0.02426344, -0.014091643, 0.009964917, 0.041357655, 0.054571625, 0.027768863, 0.020689387, 0.024720095, 0.034542143, -0.03039265, -0.033919193, -0.03796838, 0.011603135, -0.026620626, 7.456943e-05, 0.008538529, -0.0106891645, 0.016946398, 0.03633181, 0.006691451, -0.045480754, -0.009777174, -0.03980028, 0.014949521, 0.031992264, -0.044113427, 0.0273782, 0.011551085, 0.00600288, 0.021073453, 0.011237547, 0.024448873, -0.03972637, 0.04802535, -0.030791234, 0.03653242, 0.039520476, -0.008984297, -0.03674887, 0.02969579, -0.040961713, -0.03377401, 0.0040071993, 0.048753887, -0.008803812, 0.0065561705, 0.019250462, 0.04493171, -0.034748033, 0.01445525, -0.068577476, 0.0068326714, 0.03364995, -0.02341447, -0.011308817, 0.008681729, 0.067553304, 0.0023360688, -0.02355602, 0.038116198, -0.006269771, -0.038031727, -0.025781225, -0.03338071, 0.009713163, 0.061735567, 0.010969625, 0.021615896, 0.03977388, -0.04373332, -0.053579126, -0.009968547, -0.015358003, 0.008286775, 0.00677196, 0.022556262, -0.000754933, 0.026394937, 0.0079037, 0.012544822, 0.09941886, -0.027357081, 0.035587434, 0.050744165, -0.011367879, 0.0074358257, 0.0067810337, 0.017864987, -0.007852887, 0.018955152, 0.061070383, -0.049989235, 0.014045449, -0.038100358, 0.039945457, 0.020162122, 0.05008426, 0.028325824, 0.020577203, -0.039567992, 0.029057, -0.07138604, 0.030223716, 0.026212804, -0.07257915, -0.0010830096, -0.021877218, 0.0208768, -0.07254747, 0.04062912, -0.0021179698, 0.00047480268, 0.04775611, 0.004713052, -0.003370431, -0.017312316, -0.015129015, 0.0022380727, 0.022984542, -0.009234731, 0.017110053, 0.06789117, -0.049466588, -0.045517705, 0.0063888845, 0.07862917, 0.031617437, -0.031965867, 0.0363846, 0.036358207, -0.016114915, 0.041244153, -0.013954381, -0.01763534, 0.02547206, -0.020747295, 0.031218855, -0.014102201, 0.038105637, -0.018609362, 0.032546587, 0.0039472305, 0.024535323, 0.025517263, 0.00416335, 0.011691067, -0.008074615, 0.030767478, 0.008083524, 0.015160691, 0.0839401, 0.0064591644, 0.049466588, -0.022756213, 0.034040615, 0.03484834, -0.04437739, 0.0034786968, 0.002474649, 0.019063378, 0.058927007, 0.004184302, 0.05451355, 0.046826962, -0.021790111, 0.061038706, 0.025329849, 0.06642354, 0.059381023, -0.00068019854, -0.06867251, -0.06250634, -0.058040094, -0.014403118, -0.013861995, -0.038575493, -0.019419728, 0.030727884, 0.049704153, -0.08090981, 0.019376174, -0.028391816, -0.033349033, -0.036347646, -0.018891802, -0.037646342, -0.09905988, -0.0049789944, -0.018107833, -0.014526686, 0.058166794, -0.03950464, -0.057171654, 0.02419745, -0.006009108, -0.040903643, 0.016244257, -0.032747198, -0.04084029, -0.0009423464, -0.039663017, -0.022130623, 0.014448703, 0.011768442, 0.03207673, 0.005840172, -0.026544077, -0.017834632, -0.036152314, -0.0037614668, 0.032345973, -0.027940273, -0.018419309, 0.031543527, 0.014681599, 0.0041874363, -0.011264603, -0.011792528, -0.031920996, -0.039884746, -0.012771829, -0.03963662, -0.006352919, -0.07270585, -0.050242636, -0.02151031, 0.001022525, -0.036854457, -0.021563103, 0.0014376062, -0.030273868, 0.052000627, -0.0194712, 0.012000893, 0.018517634, -0.038997833, -0.020074354, -0.02045545, -0.025263859, 0.06936672, 0.07992787, -0.061962575, -0.044688866, -0.046151217, 0.0039310628, 0.041006587, 0.030994486, 0.031443223, 0.060003974, -0.01953851, 0.012667564, 0.0280711, -0.021324217, 0.030379454, 0.038240258, -0.01502343, 0.012102025, 0.05283475, 0.035571598, 0.032509632, 0.0028164808, 0.020354154, 0.020347556, 0.0118532395, -0.03096017, -0.005242957, 0.049925882, -0.029220657, -0.08366558, 0.022749614, -0.01114582, -0.0046299035, 0.006187283, 0.07900928, -0.023020836, -0.018743983, -0.03702339, -0.046594676, 0.0108623905, 0.035719417, 0.034594934, -0.019944353, 0.04973583, -0.030920576, 0.06880976, 0.050189845, 0.006919779, -0.038018532, -0.039594386, -0.03564023, 0.0033176797, 0.034246504, -0.010586219, 0.026322348, 0.034030057, 0.0032288397, -0.022114785, 0.025300814, 0.0085801035, 0.013860675, -0.0010360532, -0.031168701, -0.07563056, 0.0056943325, -0.0008286775, 0.03153297, 0.024378924, 0.029152026, 0.039040066, -0.02060525, -0.015751308, -0.010365151, -0.052945614, 0.00465432, 0.031791653, -0.0034787792, -0.008829548, -0.051155947, -0.05280835, -0.022550324, 0.008502235, -0.022461895, 0.030360976, 0.010826426, -0.004590969, -0.033190656, -0.057543844, -0.01382504, -0.04114121, -0.0036994356, -0.035661343, 0.011146645, -0.0030929814, 0.009477576, -0.048558556, -0.012042632, 0.0053224755, -0.029792797, 0.06361498, -0.023074288, -0.06720487, -0.008486397, 0.0020349866, -0.018349359, 0.016960915, -0.05282419, -0.028096177, -0.01609446, 0.04840018, 0.0034538677, 0.02043821, -0.06467083, -0.030519353, -0.039098136, 0.037366543, -0.01734366, 0.017264472, -0.023666885, -0.02490487, -0.022964744, -0.04014871, -0.033628833, 0.0015441811, 0.00895823, 0.048421297, -0.06772224, -0.040935315, -0.018883882, -0.018761141, -0.04613538, 0.017342342, -0.01734366, -0.03977916, 0.012782387, 0.0474024, -0.05260774, 0.007738393, 0.055960067, 0.0058672284, -0.005374278, -0.01452718, -0.013931945, 0.035220526, -0.02129518, -0.013658414, 0.053885322, -0.02935, 0.016068721, 0.021671988, 0.027734548, -0.037931424, -0.008879702, -0.03180221, 0.033269845, -0.009776349, -0.017932298, 0.04486308, -0.008803152, -0.054550506, 0.05043797, 0.05064914, 0.069791704, -0.032039776, -0.0104384, 0.069527745, 0.0007057699, -0.06634963, -0.0008987926, -0.035001438, -0.032134805, 0.035788048, -0.03131388, -0.0060769133, -0.039838552, 0.01693188, -0.007912278, 0.037535477, 0.024825681, -0.008579526, -0.04929765, -0.06514596, -0.006865007, -0.027543176, -0.0023255104, -0.0044035558, 0.07262138, -0.109428324, -0.057227086, -0.053436585, 0.029780257, 0.011230947, -0.019122768, 0.042556047, 0.08452082, 0.034172595, 0.030218435, -0.03541322, 0.028291509, 0.048547998, 0.016570168, 0.018606722, 0.03440488, 0.012994218, 0.012601574, 0.09201735, 0.049894206, 0.009214934, 0.018086717, 0.0012315504, 0.007468161, 0.02186534, -0.02821232, -0.048215404, -0.032847505, -0.03646907, 0.05296145, -0.017327989, 0.028243996, 0.04914455, 0.015032009, 0.023220789, -0.053040642, -0.0056329616, -0.016418638, 0.03980028, 0.02208047, 0.01996943, -0.0186318, -0.048284035, 0.02355602, 0.01552001, 0.046040352, 0.03148018, 0.060077883, -0.010423882, -0.066053994, 0.021765035, -0.00077209057, 0.054492436, -0.040666074, 0.028616183, -0.027966175, 0.023013577, 0.012216848, -0.03885793, -0.0031721704, -0.025857775, -0.009957989, 0.007044501, -0.006993029, 0.0318814, 0.0032823747, -0.0023954604, 0.015602828, 0.010912667, 0.061587747, 0.010534747, 0.024231765, -0.053521052, 0.0012775789, 0.020009683, 0.00550164, -0.021188276, -0.033816244, 0.0067581018, 0.05628738, -0.021555183, 0.061387137, 0.041727204, 0.064026766, 0.005740526, -0.061239317, 0.032430444, 0.0050423862, 0.010776603, -0.0325941, -0.03349157, -0.030440165, 0.014719874, 0.022739056, 0.0030500875, -0.040338762, 0.06393173, -0.03398782, 0.019361014, -0.01989222, -0.005514508, 0.032475315, -0.014486266, 0.02975914, -0.023565589, 0.00090176216, -0.0140269715, 0.010399136, -0.0450109, 0.009387169, 0.013272039, 0.020285524, -0.0032279324, 0.02581818, 0.0053016883, 0.055938948, 0.013949103, 0.03379249, 0.005889665, -0.080234066, 0.008505205, 0.04586614, -0.059307113, 0.0184853, -0.018652916, -0.004161535, 0.1120046, -0.00638245, -0.01819758, -0.003723357, 0.046167053, -0.00804426, -0.037773047, -0.015089421, -0.010328196, -0.039145652]]\n"
     ]
    }
   ],
   "source": [
    "# obs: precisa do $ ollama serve\n",
    "\n",
    "from langchain_ollama import OllamaEmbeddings\n",
    "embedding_model = OllamaEmbeddings(model=\"nomic-embed-text\") # nomic-embed-text | llama3\n",
    "students_embeddings = embedding_model.embed_documents([\"teste\"])\n",
    "print(students_embeddings)"
   ]
  },
  {
   "cell_type": "code",
   "execution_count": 5,
   "metadata": {},
   "outputs": [],
   "source": [
    "vectorstore = FAISS.from_documents(split_documents, embedding_model)\n",
    "\n",
    "# Save the vector store\n",
    "vectorstore.save_local(\"faiss_index\")\n",
    "\n",
    "# Load the vector store\n",
    "new_vectorstore = FAISS.load_local(\n",
    "    \"faiss_index\", embedding_model, allow_dangerous_deserialization=True\n",
    ")"
   ]
  },
  {
   "cell_type": "markdown",
   "metadata": {},
   "source": [
    "## Step 4: Create Retrieval QA Chat Prompt"
   ]
  },
  {
   "cell_type": "code",
   "execution_count": null,
   "metadata": {},
   "outputs": [],
   "source": [
    "from langchain.prompts import ChatPromptTemplate, PromptTemplate\n",
    "from langchain_core.output_parsers import StrOutputParser\n",
    "from langchain_ollama.chat_models import ChatOllama\n",
    "from langchain_core.runnables import RunnablePassthrough\n",
    "from langchain.retrievers.multi_query import MultiQueryRetriever"
   ]
  },
  {
   "cell_type": "code",
   "execution_count": null,
   "metadata": {},
   "outputs": [],
   "source": [
    "# LLM from Ollama\n",
    "local_model = \"llama3.2\"\n",
    "local_model = \"deepseek-r1\"\n",
    "llm = ChatOllama(model=local_model)\n",
    "\n",
    "QUERY_PROMPT = PromptTemplate(\n",
    "    input_variables=[\"question\"],\n",
    "    template=\"\"\"Você é um assistente de modelo de linguagem de IA. Sua tarefa é gerar cinco\n",
    "    versões diferentes da pergunta do usuário fornecida para recuperar documentos relevantes de\n",
    "    um banco de dados vetorial. Ao gerar múltiplas perspectivas sobre a pergunta do usuário, seu\n",
    "    objetivo é ajudar o usuário a superar algumas das limitações da pesquisa de similaridade \n",
    "    baseada em distância. Forneça essas perguntas alternativas separadas por quebras de linha.\n",
    "    Pergunta original: {question}\"\"\",\n",
    ")"
   ]
  },
  {
   "cell_type": "code",
   "execution_count": 7,
   "metadata": {},
   "outputs": [],
   "source": [
    "from langchain_ollama import OllamaEmbeddings \n",
    "from langchain_chroma import Chroma\n",
    "\n",
    "embedding_model = OllamaEmbeddings(model=\"nomic-embed-text\")\n",
    "\n",
    "#vectordb = Chroma(persist_directory=persist_directory, embedding_function=embedding_model)\n",
    "# vector_db = Chroma(\n",
    "#     client=chroma_client,\n",
    "#     collection_name=COLLECTION_NAME,\n",
    "#     embedding_function=embedding_model\n",
    "# )\n",
    "\n",
    "retriever = MultiQueryRetriever.from_llm(\n",
    "    new_vectorstore.as_retriever(), \n",
    "    llm,\n",
    "    prompt=QUERY_PROMPT\n",
    ")\n",
    "\n",
    "# RAG prompt\n",
    "template = \"\"\"Responda à pergunta com base SOMENTE no seguinte contexto:\n",
    "{context}\n",
    "Pergunta: {question}\n",
    "\"\"\"\n",
    "\n",
    "prompt = ChatPromptTemplate.from_template(template)"
   ]
  },
  {
   "cell_type": "code",
   "execution_count": 8,
   "metadata": {},
   "outputs": [],
   "source": [
    "chain = (\n",
    "    {\"context\": retriever, \"question\": RunnablePassthrough()}\n",
    "    | prompt\n",
    "    | llm\n",
    "    | StrOutputParser()\n",
    ")"
   ]
  },
  {
   "cell_type": "code",
   "execution_count": 9,
   "metadata": {},
   "outputs": [
    {
     "data": {
      "text/markdown": [
       "<think>\n",
       "Ok, eu preciso entender como jogar Monopoly com base nas instruções fornecidas. Primeiro, vejo que o jogo é dividido em várias etapas: começo com a administração do Jogo,setup das casas e finanças, jogada inicial, transação de propriedades, vender e alugar casas, derrotar ou bankruptezar, e distribuição de dinheiro. \n",
       "\n",
       "Em行政管理, cada jogador recebe um cartão de ingresso e um tabuleiro. Precisamos escolher um jogador como Banca. O Banca organiza o empate de Mercado, que é onde vendemos propriedades se houver empate. O Banca também administra as finanças do jogo, including Feature Gas, impostos e juros.\n",
       "\n",
       "Em setup das finanças, cada jogador recebe $1500 distribuído de acordo com um esquema específico, incluindo bilionários, milhões, etc. Se houver mais de cinco jogadores, o Banca pode ser-limitado a ser o Banque somente.\n",
       "\n",
       "A jogada inicial consiste emdobrar as casas e distribuir money, com um jogador escolhendo a primeira casa do Tabuleiro. Depois, cada jogador pode adicionar propriedades ao Tabuleiro, including Casas, hotéis, Immóveis com juros e Mortgações.\n",
       "\n",
       "Em transação de propriedades, os jogadores podem vender suas casas ou imóveis por valor de mercado, considerando o Imposto de Mercado se houver. Se houver empate, o Banca determina quem ganha quais propriedades. Em finanças, se um jogador tiver dívidas maiores que seu patrimônio, ele é declarado bankrupteado e retired do jogo.\n",
       "\n",
       "Vender e alugar casas envolve vender as casas do oponente a mais alta Oferte. Se a casinha da Rua estiver vacante, o jogador pode alugar-a paga exatamente, ou vender-a por um valor maior.\n",
       "\n",
       "Derrotar ou Bankruptcy é determinado pelo dívida de um jogador em relação ao Banca ou os outros jogadores. Casas e hotéis estão disponíveis para compra se houver empate de Mercado.\n",
       "\n",
       "Distribuição de dinheiro inclui premios específicos como $500, $100, etc., e o Banca mantém a reste.\n",
       "\n",
       "Para entender melhor, talvez seja bom recorrer a um tutorial ou guide completo de jogar Monopoly, mas essas instruções abrangem as principais etapas do jogo.\n",
       "</think>\n",
       "\n",
       "Para jogar Monopoly, siga os seguintes passos organizados:\n",
       "\n",
       "### 1. **Administração do Jogo**\n",
       "   - **Jogador Inicial:** Se houver mais de cinco jogadores, escolha um jogador como Banca. O Banca organiza o empate de Mercado e administra as finanças.\n",
       "   - **Setup das Finanças:** Cada jogador recebe $1500 distribuído conforme esquema: 6 bilhões ($40 milhões), 5 milhões ($105, $50, $5$) e resta para o Banca.\n",
       "\n",
       "### 2. **Jogada Inicial**\n",
       "   - **Dobrar Casas:** Jogadores, incluindo o Banca,dobram as casas do Tabuleiro.\n",
       "   - **Primeira Casa:** O jogador que ganhou o empate escolhe a primeira casa da Rua para morar.\n",
       "\n",
       "### 3. **Adicionar Propriedades**\n",
       "   - Cada jogador adiciona propriedades ao Tabuleiro: Casas, hotéis, Immóveis com juros e Mortgações, seguindo os regras do jogo.\n",
       "\n",
       "### 4. **Transação de Propriedades**\n",
       "   - **Venda de Propriedades:** Jogadores podem vender suas casas ou imóveis pelo valor de mercado.\n",
       "   - **Empate de Mercado:** Casas e propriedades podem ser vendidas por mais alta Oferte. Se houver empate, o Banca determina quem ganha.\n",
       "\n",
       "### 5. **Vender e Alugar Casas**\n",
       "   - Jogadores podem vender casas ao Banca ou aos opostos por valor de mercado.\n",
       "   - **Aluguel de Casas:** Se a Rua está vacante, jogadores podem alugar-a paga exatamente ou vender-a por mais alto.\n",
       "\n",
       "### 6. **Derrotar ou Bankruptcy**\n",
       "   - **Banкрутêzio:** Jogadores são declarados bankrupteados se tiverem dívidas maiores que seu patrimônio. Eles se retiram do jogo.\n",
       "\n",
       "### 7. **Distribuição de Dinheiro**\n",
       "   - Dic drawer premios como $500, $100, etc., e o Banca mantém a reste.\n",
       "\n",
       "### Resumo\n",
       "- Comece com a administração do Jogo e setup das Finanças.\n",
       "- Execute a jogada inicial e adicione propriedades ao Tabuleiro.\n",
       "- Realize transações de propriedades, incluindo vendas e aluguel de casas.\n",
       "- Monitor finanças e determinar derrotos ou Bankruptcy conforme necessário.\n",
       "\n",
       "Se inscreva em um tutorial completo para compreender as regras completas!"
      ],
      "text/plain": [
       "<IPython.core.display.Markdown object>"
      ]
     },
     "metadata": {},
     "output_type": "display_data"
    }
   ],
   "source": [
    "from IPython.display import display, Markdown\n",
    "display(Markdown(chain.invoke(\"Como jogar Monopoly ?\")))"
   ]
  },
  {
   "cell_type": "code",
   "execution_count": 11,
   "metadata": {},
   "outputs": [
    {
     "data": {
      "text/markdown": [
       "<think>\n",
       "Primeiro, preciso entender a estrutura do jogo de Monopoly, particularly como são calculados os custos das casas e dos hotéis. Sabemos que Monopoly é um jogo de propriedades, e cada propriedade tem seu valor base.\n",
       "\n",
       "Segundo, lembro que o custo inicial de uma casa em Monopoly é 120 dólares, incluíndo a construção da casa herself e os terrenos adjacentes necessários. Isso contrasta com a propriedade primitiva que tem um valor mais baixo.\n",
       "\n",
       "Em seguida, o custo de um hotel é maior. Cada hotel cobra 25 dólares de aluguel por vistoria, então um hotelindividual custaria mais. No entanto, os hotéis na Monopoly são geralmente mais caros do que as casas, especialmente se construction fee estiver incluído.\n",
       "\n",
       "Também preciso considerar se há possibilidade de increasing o valor de uma propriedade através de imóveis adjacentes ou outros meios de ganho de valor, como a construction fee ou os efeitos da propriedade na Rua dos Homens, que pode acelerar o advancement.\n",
       "\n",
       "Além disso, lembro que os preços dos imóveis podem variarDependendo da versão do jogo. No entanto, para um jogo tradicional, os valores de casa e hotel são estabelecidos de forma padrão.\n",
       "\n",
       "Resumindo, a casa custa 120 dólares, incluído o edifício e os adjacentes, e o hotel custa mais, comumente estando em torno dos 350 dólares, incluído o edifício e os terrenos necessários para sua construção.\n",
       "</think>\n",
       "\n",
       "No jogo de Monopoly, um **casa** custa **120 dólares**, incluindo a construção da casa e os terrenos adjacentes necessários. Um **hotel** individual custa mais: aproximadamente **350 dólares**, incluindo o edifício e os terrenos necessários para sua construção."
      ],
      "text/plain": [
       "<IPython.core.display.Markdown object>"
      ]
     },
     "metadata": {},
     "output_type": "display_data"
    }
   ],
   "source": [
    "from IPython.display import display, Markdown\n",
    "display(Markdown(chain.invoke(\"Quanto custa uma casa e um hotel no Monopoly ?\")))"
   ]
  }
 ],
 "metadata": {
  "kernelspec": {
   "display_name": "my_env_3129",
   "language": "python",
   "name": "python3"
  },
  "language_info": {
   "codemirror_mode": {
    "name": "ipython",
    "version": 3
   },
   "file_extension": ".py",
   "mimetype": "text/x-python",
   "name": "python",
   "nbconvert_exporter": "python",
   "pygments_lexer": "ipython3",
   "version": "3.12.9"
  }
 },
 "nbformat": 4,
 "nbformat_minor": 2
}
